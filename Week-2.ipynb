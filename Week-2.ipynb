{
 "cells": [
  {
   "cell_type": "markdown",
   "metadata": {},
   "source": [
    "# Week-2\n",
    "In this week we'll learn Image Augumation."
   ]
  },
  {
   "cell_type": "code",
   "execution_count": 1,
   "metadata": {},
   "outputs": [],
   "source": [
    "# Importing some vital modules.\n",
    "import tensorflow as tf\n",
    "from tensorflow.keras import Sequential\n",
    "from tensorflow.keras.layers import Dense, Conv2D, MaxPooling2D, Flatten\n",
    "from tensorflow.keras.preprocessing.image import ImageDataGenerator\n",
    "import matplotlib.pyplot as plt\n",
    "from tensorflow.keras.optimizers import RMSprop"
   ]
  },
  {
   "cell_type": "code",
   "execution_count": 5,
   "metadata": {},
   "outputs": [],
   "source": [
    "# In this model i'll be using 5 convolotuion layers.\n",
    "model = Sequential([\n",
    "    # Convolution neurons are 16 with kernel size(3x3) and input_shape.\n",
    "    Conv2D(16, (3,3), activation='relu', input_shape=(400, 400, 3)),\n",
    "    MaxPooling2D(2,2), # mentioning pooling size as 2x2.\n",
    "    Conv2D(32, (3,3), activation='relu'),\n",
    "    MaxPooling2D(2,2),\n",
    "    Conv2D(64, (3,3), activation='relu'),\n",
    "    MaxPooling2D(2,2),\n",
    "    Conv2D(64, (3,3), activation='relu'),\n",
    "    MaxPooling2D(2,2),\n",
    "    Conv2D(64, (3,3), activation='relu'),\n",
    "    MaxPooling2D(2,2),\n",
    "    # Flatten will take the multi-dimensional array and converts into\n",
    "    # single-dimensions.\n",
    "    Flatten(),\n",
    "    Dense(512, activation='relu'), # Dense layer with 512 neurons.\n",
    "    Dense(1, activation='sigmoid')\n",
    "\n",
    "])"
   ]
  },
  {
   "cell_type": "code",
   "execution_count": 6,
   "metadata": {},
   "outputs": [],
   "source": [
    "# time to compile the model.\n",
    "model.compile(optimizer=RMSprop(lr=1e-4), loss='binary_crossentropy',\n",
    "                               metrics=['accuracy'])"
   ]
  },
  {
   "cell_type": "code",
   "execution_count": 12,
   "metadata": {},
   "outputs": [
    {
     "name": "stdout",
     "output_type": "stream",
     "text": [
      "Found 24818 images belonging to 2 classes.\n",
      "Found 182 images belonging to 2 classes.\n"
     ]
    }
   ],
   "source": [
    "# Augumenting the images.\n",
    "train_datagen = ImageDataGenerator(rescale=1./255, # rescaling the image.\n",
    "                                   rotation_range=40, # rotating the image.\n",
    "                                   width_shift_range=0.2,  # shifting the width range.\n",
    "                                   height_shift_range=0.2, # shifting the height range.\n",
    "                                    \n",
    "                                   shear_range =0.2,  # it will compress the image\n",
    "                                   zoom_range=0.2, # zoom in by 20%\n",
    "                                   horizontal_flip=True, # flipping the image.\n",
    "                                   fill_mode='nearest') # if the pixels are empty, it will\n",
    "                                                    # take the nearest pixel values.\n",
    "validation_datagen = ImageDataGenerator(rescale=1/255)\n",
    "\n",
    "# get the images in batch of 128 using train_datagen generator.\n",
    "training_path = 'F:/basic_python/Coursera/dataset/train_images'\n",
    "validation_path = 'F:/basic_python/Coursera/dataset/test_images'\n",
    "train_generator = train_datagen.flow_from_directory(training_path, # file path\n",
    "                                                   # resizing the images.\n",
    "                                                    target_size=(400, 400),\n",
    "                                                    batch_size = 100,\n",
    "                                                    class_mode = 'binary')\n",
    "\n",
    "validation_generator = validation_datagen.flow_from_directory(validation_path,\n",
    "                                                             target_size=(400, 400),\n",
    "                                                             batch_size=10,\n",
    "                                                             class_mode='binary')"
   ]
  },
  {
   "cell_type": "markdown",
   "metadata": {},
   "source": [
    "When you are using generator you have to  specify \"steps_per_epoch\". what it does(see below cell) it should cover 100 times the batch_size (per epoch should cover the batch_size of 20 for about 100 times(for training) and same intution applies for about 50 times (for validation))."
   ]
  },
  {
   "cell_type": "code",
   "execution_count": 13,
   "metadata": {},
   "outputs": [
    {
     "name": "stdout",
     "output_type": "stream",
     "text": [
      "WARNING:tensorflow:sample_weight modes were coerced from\n",
      "  ...\n",
      "    to  \n",
      "  ['...']\n",
      "WARNING:tensorflow:sample_weight modes were coerced from\n",
      "  ...\n",
      "    to  \n",
      "  ['...']\n",
      "Train for 8 steps, validate for 8 steps\n",
      "Epoch 1/3\n",
      "8/8 [==============================] - 372s 47s/step - loss: 0.6954 - accuracy: 0.4925 - val_loss: 0.6807 - val_accuracy: 0.5375\n",
      "Epoch 2/3\n",
      "7/8 [=========================>....] - ETA: 1:26 - loss: 0.6909 - accuracy: 0.5129"
     ]
    },
    {
     "name": "stderr",
     "output_type": "stream",
     "text": [
      "D:\\New folder\\lib\\site-packages\\PIL\\TiffImagePlugin.py:763: UserWarning: Possibly corrupt EXIF data.  Expecting to read 80000 bytes but only got 0. Skipping tag 64640\n",
      "  \" Skipping tag %s\" % (size, len(data), tag))\n",
      "D:\\New folder\\lib\\site-packages\\PIL\\TiffImagePlugin.py:763: UserWarning: Possibly corrupt EXIF data.  Expecting to read 65536 bytes but only got 0. Skipping tag 3\n",
      "  \" Skipping tag %s\" % (size, len(data), tag))\n",
      "D:\\New folder\\lib\\site-packages\\PIL\\TiffImagePlugin.py:763: UserWarning: Possibly corrupt EXIF data.  Expecting to read 404094976 bytes but only got 0. Skipping tag 5\n",
      "  \" Skipping tag %s\" % (size, len(data), tag))\n",
      "D:\\New folder\\lib\\site-packages\\PIL\\TiffImagePlugin.py:763: UserWarning: Possibly corrupt EXIF data.  Expecting to read 404619264 bytes but only got 0. Skipping tag 5\n",
      "  \" Skipping tag %s\" % (size, len(data), tag))\n",
      "D:\\New folder\\lib\\site-packages\\PIL\\TiffImagePlugin.py:763: UserWarning: Possibly corrupt EXIF data.  Expecting to read 131072 bytes but only got 0. Skipping tag 3\n",
      "  \" Skipping tag %s\" % (size, len(data), tag))\n",
      "D:\\New folder\\lib\\site-packages\\PIL\\TiffImagePlugin.py:763: UserWarning: Possibly corrupt EXIF data.  Expecting to read 425459712 bytes but only got 0. Skipping tag 4\n",
      "  \" Skipping tag %s\" % (size, len(data), tag))\n",
      "D:\\New folder\\lib\\site-packages\\PIL\\TiffImagePlugin.py:763: UserWarning: Possibly corrupt EXIF data.  Expecting to read 1385474 bytes but only got 6833. Skipping tag 513\n",
      "  \" Skipping tag %s\" % (size, len(data), tag))\n",
      "D:\\New folder\\lib\\site-packages\\PIL\\TiffImagePlugin.py:763: UserWarning: Possibly corrupt EXIF data.  Expecting to read 3846701056 bytes but only got 0. Skipping tag 2\n",
      "  \" Skipping tag %s\" % (size, len(data), tag))\n",
      "D:\\New folder\\lib\\site-packages\\PIL\\TiffImagePlugin.py:763: UserWarning: Possibly corrupt EXIF data.  Expecting to read 3300917248 bytes but only got 0. Skipping tag 7\n",
      "  \" Skipping tag %s\" % (size, len(data), tag))\n",
      "D:\\New folder\\lib\\site-packages\\PIL\\TiffImagePlugin.py:763: UserWarning: Possibly corrupt EXIF data.  Expecting to read 196867 bytes but only got 6833. Skipping tag 0\n",
      "  \" Skipping tag %s\" % (size, len(data), tag))\n",
      "D:\\New folder\\lib\\site-packages\\PIL\\TiffImagePlugin.py:780: UserWarning: Corrupt EXIF data.  Expecting to read 12 bytes but only got 8. \n",
      "  warnings.warn(str(msg))\n"
     ]
    },
    {
     "name": "stdout",
     "output_type": "stream",
     "text": [
      "8/8 [==============================] - 699s 87s/step - loss: 0.6899 - accuracy: 0.5150 - val_loss: 0.6770 - val_accuracy: 0.6500\n",
      "Epoch 3/3\n",
      "8/8 [==============================] - 498s 62s/step - loss: 0.6874 - accuracy: 0.5675 - val_loss: 0.6856 - val_accuracy: 0.5000\n"
     ]
    }
   ],
   "source": [
    "history = model.fit(train_generator, # training data\n",
    "                   steps_per_epoch = 8, # steps\n",
    "                   epochs=3,\n",
    "                   verbose=1,\n",
    "                   validation_data=validation_generator,\n",
    "                   validation_steps=8)"
   ]
  },
  {
   "cell_type": "markdown",
   "metadata": {},
   "source": [
    "### Visualizing the plot."
   ]
  },
  {
   "cell_type": "code",
   "execution_count": 14,
   "metadata": {},
   "outputs": [
    {
     "data": {
      "image/png": "[encoded data removed]",
      "text/plain": [
       "<Figure size 432x288 with 1 Axes>"
      ]
     },
     "metadata": {
      "needs_background": "light"
     },
     "output_type": "display_data"
    },
    {
     "data": {
      "image/png": "[encoded data removed]",
      "text/plain": [
       "<Figure size 432x288 with 1 Axes>"
      ]
     },
     "metadata": {
      "needs_background": "light"
     },
     "output_type": "display_data"
    }
   ],
   "source": [
    "acc = history.history['accuracy'] # # getting the accuracy from history object.\n",
    "val_acc = history.history['val_accuracy']  # getting the val_accuracy from history object.\n",
    "loss = history.history['loss'] # getting the loss from history object.\n",
    "val_loss = history.history['val_loss'] # getting the val_loss from history object.\n",
    "\n",
    "epochs = range(len(acc)) # length of the acc will be the no of epochs.\n",
    "\n",
    "plt.plot(epochs, acc, 'r', label='Training accuracy') # x-axis= no of epochs, y-axis=acc\n",
    "                            # mentioning colour as red and label as \"Training accuracy\".\n",
    "plt.plot(epochs, val_acc, 'b', label='Validation accuracy') # x-axis= no of epochs, y-axis=acc\n",
    "                            # mentioning colour as red and label as \"Validation accuracy\".\n",
    "\n",
    "# title of the plot will be \"Training and validation accuracy\".\n",
    "plt.title('Training and validation accuracy')\n",
    "\n",
    "plt.figure()\n",
    "\n",
    "plt.plot(epochs, loss, 'r', label='Training Loss')\n",
    "plt.plot(epochs, val_loss, 'b', label='Validation Loss')\n",
    "plt.title('Training and validation loss')\n",
    "plt.legend() # for visualzing the labels.\n",
    "\n",
    "plt.show() # show the plot."
   ]
  },
  {
   "cell_type": "markdown",
   "metadata": {},
   "source": [
    "Still we have to improvise."
   ]
  },
  {
   "cell_type": "markdown",
   "metadata": {},
   "source": [
    "I trained it only for 3 epochs 'cause I wasn't having GPU and it took me 15 mins for per epoch."
   ]
  }
 ],
 "metadata": {
  "kernelspec": {
   "display_name": "Python 3",
   "language": "python",
   "name": "python3"
  },
  "language_info": {
   "codemirror_mode": {
    "name": "ipython",
    "version": 3
   },
   "file_extension": ".py",
   "mimetype": "text/x-python",
   "name": "python",
   "nbconvert_exporter": "python",
   "pygments_lexer": "ipython3",
   "version": "3.7.3"
  }
 },
 "nbformat": 4,
 "nbformat_minor": 2
}
